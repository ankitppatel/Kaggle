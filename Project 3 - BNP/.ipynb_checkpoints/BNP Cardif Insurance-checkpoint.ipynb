{
 "cells": [
  {
   "cell_type": "markdown",
   "metadata": {},
   "source": [
    "# BNP Paribas Cardif Insurance Kaggle competition\n",
    "In this Kaggle competition, sponsored by BNP Paribas Cardif, participants were challenged to utilize a set of features, which would typically be available during the early stages of an insurance claim, to predict whether the claim could be accelerated towards the payment phase or if additional investigation would be needed by BNP. The seemingly obvious benefit of speeding up claims processing would be the improved level of service provided to customers of BNP. The risk, however, is paying expedited claims inaccurately may incur losses. The goal was to predict the probability of having a Target outcome of “1”."
   ]
  },
  {
   "cell_type": "markdown",
   "metadata": {},
   "source": [
    "## Summary"
   ]
  },
  {
   "cell_type": "markdown",
   "metadata": {},
   "source": [
    "Given a set of completely anonymous data, there was essentially no room for ‘domain expertise’ to be used here (ie. for feature selection or feature engineering), only data wrangling and machine learning tactics would come in handy. A significant portion of the data was found to be missing, which required arbitrarily dropping some features and using substitute values to fill the gaps on others. <br>\n",
    "Since this problem is a Binary classification, one of the first models to come to mind is the commonly used Logistic Regression. We additionally used a range of individual Tree based classifiers, which employed various ‘enhancements’ to their predictive capabilities through the use of bagging, boosting, and other randomization techniques. <br>\n",
    "Ultimately we used a method, popular on Kaggle, called Stacking. Stacking, intuitively speaking, 'learns' from the different 'opinions' provided by a group of models, which may not be very strong individually, but collectively can be more effective in choosing an accurate prediction (kind of a \"people's choice\", without significant group think). From a very basic Logistic Regression model to the much more complex stacked model, a significant improvement in score was made. <br>\n",
    "Thinking about where improvements could’ve been made: During the data cleaning/manipulation process, a lot of data was dropped due to a high number of null values. Perhaps those null values meant something? Other blending techniques, besides Stacking, could’ve been used to see if similar or greater improvements in score can be achieved.\n"
   ]
  },
  {
   "cell_type": "markdown",
   "metadata": {},
   "source": [
    "## Initializations and Reusable Functions"
   ]
  },
  {
   "cell_type": "code",
   "execution_count": 1,
   "metadata": {
    "collapsed": false
   },
   "outputs": [],
   "source": [
    "#Show any plotted graphs within the notebook\n",
    "% matplotlib inline\n",
    "\n",
    "import pandas as pd #Data manipulation library\n",
    "import numpy as np #Numerical analysis and linear algebra library\n",
    "\n",
    "# Matplotlib provides the ability to plot figures and charts in python\n",
    "import matplotlib as mpl\n",
    "import matplotlib.cm as cm\n",
    "import matplotlib.pyplot as plt\n",
    "\n",
    "# sklearn provides various scientific functionality as well as machine learning models for data analysis\n",
    "import sklearn \n",
    "\n",
    "from sklearn.cross_validation import KFold, StratifiedKFold\n",
    "from sklearn.grid_search import GridSearchCV\n",
    "from sklearn.preprocessing import LabelEncoder #take categorical data and convert them into numerical representations\n",
    "from sklearn.metrics import log_loss #the risk function we will be utilizing to evaluate our model\n",
    "\n",
    "# Import the models we will be using as the base composition of our final predictive ensemble model\n",
    "from sklearn.linear_model import LogisticRegression\n",
    "from sklearn.ensemble import RandomForestClassifier, ExtraTreesClassifier, GradientBoostingClassifier, AdaBoostClassifier\n",
    "\n",
    "\n",
    "# eXtreme Gradient boosting library. Faster, more efficient, and more effective implementation of\n",
    "# gradient boosting modeling\n",
    "import xgboost\n",
    "from xgboost import XGBClassifier\n",
    "from xgboost import XGBRegressor\n",
    "\n",
    "# miscellaneous libraries to help keep track of code run time, various math operations etc\n",
    "import datetime\n",
    "import time\n",
    "import math\n",
    "\n"
   ]
  },
  {
   "cell_type": "markdown",
   "metadata": {},
   "source": [
    "### Functions :\n",
    "**1) cv_score <br>\n",
    "2) do_GridsearchCV**"
   ]
  },
  {
   "cell_type": "code",
   "execution_count": 2,
   "metadata": {
    "collapsed": false
   },
   "outputs": [],
   "source": [
    "##########################\n",
    "# Model: cv_score\n",
    "\n",
    "# Description:\n",
    "# Do a 5 fold cross validation to calculate log_loss of the current model\n",
    "\n",
    "# Input Parameters:\n",
    "# clf - the sklearn model being cross-validated\n",
    "# x - data matrix containing the features used to train models/predict outcomes\n",
    "# y - target variable\n",
    "\n",
    "# Return value:\n",
    "# The average log_loss score achieved from 5 train/test iterations\n",
    "##########################\n",
    "def cv_score(clf, x, y):\n",
    "    nfolds = 5\n",
    "    score = 0\n",
    "    for train, test in KFold(y.size, n_folds = nfolds ):\n",
    "        xTrain = x[train]\n",
    "        yTrain = y[train]\n",
    "        xTest = x[test]\n",
    "        yTest = y[test]\n",
    "        \n",
    "        clf.fit(xTrain, yTrain)\n",
    "        predictions = clf.predict_proba(xTest)\n",
    "        score += log_loss(yTest, predictions)\n",
    "    \n",
    "    return score/nfolds\n",
    "        "
   ]
  },
  {
   "cell_type": "code",
   "execution_count": 3,
   "metadata": {
    "collapsed": true
   },
   "outputs": [],
   "source": [
    "##########################\n",
    "# Model: do_GridsearchCV\n",
    "\n",
    "# Description:\n",
    "# Use cross-validated GridSearch to find best model parameters which optimizes our scoring objective\n",
    "\n",
    "# Input Parameters:\n",
    "# clf - the sklearn model being cross-validated\n",
    "# params - dictionary of parameter names and their respective parameter values to be tested for optimality \n",
    "# scorer - the scoring function that the GridSearch will try to optimize (minimizing log_loss in our current case)\n",
    "# xTrain - data matrix containing the features used to train models/predict outcomes\n",
    "# yTrain - target variable\n",
    "# folds - number of folds to be used during the cross-validation process\n",
    "\n",
    "# Return values:\n",
    "# clf - optimized estimator model\n",
    "# clf.grid_scores_ - the paramater combos tested and their resulting score\n",
    "# clf.best_params_ - the best scoring paramater combo\n",
    "# clf.best_score_ - the best score achieved from the best params\n",
    "##########################\n",
    "\n",
    "def do_GridsearchCV(clf, params, scorer, xTrain, yTrain, folds = 5):\n",
    "    startTime = time.time()\n",
    "    clf = GridSearchCV(clf, param_grid = params, scoring = scorer, cv = folds)\n",
    "    clf.fit(xTrain, yTrain)\n",
    "    training_acc = clf.score(xTrain, yTrain)\n",
    "    print \"Training Accuracy: %0.2f\" % training_acc\n",
    "    print clf.grid_scores_, clf.best_params_, clf.best_score_\n",
    "    print \"\\nTime GridSearchCV took to run: %r minutes\" % ((time.time()-startTime)/60)\n",
    "\n",
    "    return clf, clf.grid_scores_, clf.best_params_, clf.best_score_"
   ]
  },
  {
   "cell_type": "markdown",
   "metadata": {},
   "source": [
    "## Explore the data"
   ]
  },
  {
   "cell_type": "markdown",
   "metadata": {},
   "source": [
    "The data provided is completely anonymous. We have no knowledge of each feature's qualitative relevance, they are simply labeled v1 to v131. We also don't know what a target value of \"1\" means, we just know that we have to predict the probability of the outcome being \"1\" given a set of features.\n",
    "\n",
    "There is a lot of missing data (NaN values) for many of the columns, some of which are missing almost half of their observations. <br> While most of the data is numerical values, we have a number of columns that contain categorical values, that will need to be changed later. "
   ]
  },
  {
   "cell_type": "code",
   "execution_count": 4,
   "metadata": {
    "collapsed": true
   },
   "outputs": [],
   "source": [
    "#Read in the training set, test set, and sample submission format\n",
    "trainData = pd.read_csv('data/train.csv')\n",
    "testData = pd.read_csv('data/test.csv')\n",
    "sampleSubmission = pd.read_csv('data/sample_submission.csv')"
   ]
  },
  {
   "cell_type": "code",
   "execution_count": 5,
   "metadata": {
    "collapsed": false
   },
   "outputs": [
    {
     "data": {
      "text/html": [
       "<div>\n",
       "<table border=\"1\" class=\"dataframe\">\n",
       "  <thead>\n",
       "    <tr style=\"text-align: right;\">\n",
       "      <th></th>\n",
       "      <th>ID</th>\n",
       "      <th>target</th>\n",
       "      <th>v1</th>\n",
       "      <th>v2</th>\n",
       "      <th>v3</th>\n",
       "      <th>v4</th>\n",
       "      <th>v5</th>\n",
       "      <th>v6</th>\n",
       "      <th>v7</th>\n",
       "      <th>v8</th>\n",
       "      <th>...</th>\n",
       "      <th>v122</th>\n",
       "      <th>v123</th>\n",
       "      <th>v124</th>\n",
       "      <th>v125</th>\n",
       "      <th>v126</th>\n",
       "      <th>v127</th>\n",
       "      <th>v128</th>\n",
       "      <th>v129</th>\n",
       "      <th>v130</th>\n",
       "      <th>v131</th>\n",
       "    </tr>\n",
       "  </thead>\n",
       "  <tbody>\n",
       "    <tr>\n",
       "      <th>0</th>\n",
       "      <td>3</td>\n",
       "      <td>1</td>\n",
       "      <td>1.335739</td>\n",
       "      <td>8.727474</td>\n",
       "      <td>C</td>\n",
       "      <td>3.921026</td>\n",
       "      <td>7.915266</td>\n",
       "      <td>2.599278</td>\n",
       "      <td>3.176895</td>\n",
       "      <td>0.012941</td>\n",
       "      <td>...</td>\n",
       "      <td>8.000000</td>\n",
       "      <td>1.989780</td>\n",
       "      <td>0.035754</td>\n",
       "      <td>AU</td>\n",
       "      <td>1.804126</td>\n",
       "      <td>3.113719</td>\n",
       "      <td>2.024285</td>\n",
       "      <td>0</td>\n",
       "      <td>0.636365</td>\n",
       "      <td>2.857144</td>\n",
       "    </tr>\n",
       "    <tr>\n",
       "      <th>1</th>\n",
       "      <td>4</td>\n",
       "      <td>1</td>\n",
       "      <td>NaN</td>\n",
       "      <td>NaN</td>\n",
       "      <td>C</td>\n",
       "      <td>NaN</td>\n",
       "      <td>9.191265</td>\n",
       "      <td>NaN</td>\n",
       "      <td>NaN</td>\n",
       "      <td>2.301630</td>\n",
       "      <td>...</td>\n",
       "      <td>NaN</td>\n",
       "      <td>NaN</td>\n",
       "      <td>0.598896</td>\n",
       "      <td>AF</td>\n",
       "      <td>NaN</td>\n",
       "      <td>NaN</td>\n",
       "      <td>1.957825</td>\n",
       "      <td>0</td>\n",
       "      <td>NaN</td>\n",
       "      <td>NaN</td>\n",
       "    </tr>\n",
       "    <tr>\n",
       "      <th>2</th>\n",
       "      <td>5</td>\n",
       "      <td>1</td>\n",
       "      <td>0.943877</td>\n",
       "      <td>5.310079</td>\n",
       "      <td>C</td>\n",
       "      <td>4.410969</td>\n",
       "      <td>5.326159</td>\n",
       "      <td>3.979592</td>\n",
       "      <td>3.928571</td>\n",
       "      <td>0.019645</td>\n",
       "      <td>...</td>\n",
       "      <td>9.333333</td>\n",
       "      <td>2.477596</td>\n",
       "      <td>0.013452</td>\n",
       "      <td>AE</td>\n",
       "      <td>1.773709</td>\n",
       "      <td>3.922193</td>\n",
       "      <td>1.120468</td>\n",
       "      <td>2</td>\n",
       "      <td>0.883118</td>\n",
       "      <td>1.176472</td>\n",
       "    </tr>\n",
       "    <tr>\n",
       "      <th>3</th>\n",
       "      <td>6</td>\n",
       "      <td>1</td>\n",
       "      <td>0.797415</td>\n",
       "      <td>8.304757</td>\n",
       "      <td>C</td>\n",
       "      <td>4.225930</td>\n",
       "      <td>11.627438</td>\n",
       "      <td>2.097700</td>\n",
       "      <td>1.987549</td>\n",
       "      <td>0.171947</td>\n",
       "      <td>...</td>\n",
       "      <td>7.018256</td>\n",
       "      <td>1.812795</td>\n",
       "      <td>0.002267</td>\n",
       "      <td>CJ</td>\n",
       "      <td>1.415230</td>\n",
       "      <td>2.954381</td>\n",
       "      <td>1.990847</td>\n",
       "      <td>1</td>\n",
       "      <td>1.677108</td>\n",
       "      <td>1.034483</td>\n",
       "    </tr>\n",
       "    <tr>\n",
       "      <th>4</th>\n",
       "      <td>8</td>\n",
       "      <td>1</td>\n",
       "      <td>NaN</td>\n",
       "      <td>NaN</td>\n",
       "      <td>C</td>\n",
       "      <td>NaN</td>\n",
       "      <td>NaN</td>\n",
       "      <td>NaN</td>\n",
       "      <td>NaN</td>\n",
       "      <td>NaN</td>\n",
       "      <td>...</td>\n",
       "      <td>NaN</td>\n",
       "      <td>NaN</td>\n",
       "      <td>NaN</td>\n",
       "      <td>Z</td>\n",
       "      <td>NaN</td>\n",
       "      <td>NaN</td>\n",
       "      <td>NaN</td>\n",
       "      <td>0</td>\n",
       "      <td>NaN</td>\n",
       "      <td>NaN</td>\n",
       "    </tr>\n",
       "  </tbody>\n",
       "</table>\n",
       "<p>5 rows × 133 columns</p>\n",
       "</div>"
      ],
      "text/plain": [
       "   ID  target        v1        v2 v3        v4         v5        v6        v7  \\\n",
       "0   3       1  1.335739  8.727474  C  3.921026   7.915266  2.599278  3.176895   \n",
       "1   4       1       NaN       NaN  C       NaN   9.191265       NaN       NaN   \n",
       "2   5       1  0.943877  5.310079  C  4.410969   5.326159  3.979592  3.928571   \n",
       "3   6       1  0.797415  8.304757  C  4.225930  11.627438  2.097700  1.987549   \n",
       "4   8       1       NaN       NaN  C       NaN        NaN       NaN       NaN   \n",
       "\n",
       "         v8    ...         v122      v123      v124  v125      v126      v127  \\\n",
       "0  0.012941    ...     8.000000  1.989780  0.035754    AU  1.804126  3.113719   \n",
       "1  2.301630    ...          NaN       NaN  0.598896    AF       NaN       NaN   \n",
       "2  0.019645    ...     9.333333  2.477596  0.013452    AE  1.773709  3.922193   \n",
       "3  0.171947    ...     7.018256  1.812795  0.002267    CJ  1.415230  2.954381   \n",
       "4       NaN    ...          NaN       NaN       NaN     Z       NaN       NaN   \n",
       "\n",
       "       v128  v129      v130      v131  \n",
       "0  2.024285     0  0.636365  2.857144  \n",
       "1  1.957825     0       NaN       NaN  \n",
       "2  1.120468     2  0.883118  1.176472  \n",
       "3  1.990847     1  1.677108  1.034483  \n",
       "4       NaN     0       NaN       NaN  \n",
       "\n",
       "[5 rows x 133 columns]"
      ]
     },
     "execution_count": 5,
     "metadata": {},
     "output_type": "execute_result"
    }
   ],
   "source": [
    "#take a look at the first 5 lines of data in your dataframe\n",
    "trainData.head()"
   ]
  },
  {
   "cell_type": "code",
   "execution_count": 6,
   "metadata": {
    "collapsed": false
   },
   "outputs": [
    {
     "name": "stdout",
     "output_type": "stream",
     "text": [
      "Shape of training data:  (114321, 133)\n",
      "ID            0\n",
      "target        0\n",
      "v1        49832\n",
      "v2        49796\n",
      "v3         3457\n",
      "v4        49796\n",
      "v5        48624\n",
      "v6        49832\n",
      "v7        49832\n",
      "v8        48619\n",
      "v9        49851\n",
      "v10          84\n",
      "v11       49836\n",
      "v12          86\n",
      "v13       49832\n",
      "v14           4\n",
      "v15       49836\n",
      "v16       49895\n",
      "v17       49796\n",
      "v18       49832\n",
      "v19       49843\n",
      "v20       49840\n",
      "v21         611\n",
      "v22         500\n",
      "v23       50675\n",
      "v24           0\n",
      "v25       48619\n",
      "v26       49832\n",
      "v27       49832\n",
      "v28       49832\n",
      "          ...  \n",
      "v102      51316\n",
      "v103      49832\n",
      "v104      49832\n",
      "v105      48658\n",
      "v106      49796\n",
      "v107          3\n",
      "v108      48624\n",
      "v109      48624\n",
      "v110          0\n",
      "v111      49832\n",
      "v112        382\n",
      "v113      55304\n",
      "v114         30\n",
      "v115      49895\n",
      "v116      49836\n",
      "v117      48624\n",
      "v118      49843\n",
      "v119      50680\n",
      "v120      49836\n",
      "v121      49840\n",
      "v122      49851\n",
      "v123      50678\n",
      "v124      48619\n",
      "v125         77\n",
      "v126      49832\n",
      "v127      49832\n",
      "v128      48624\n",
      "v129          0\n",
      "v130      49843\n",
      "v131      49895\n",
      "dtype: int64\n"
     ]
    }
   ],
   "source": [
    "# See how many rows of observations and columns of features do we have\n",
    "print \"Shape of training data: \",trainData.shape\n",
    "\n",
    "# Tally the number missing data points in each column\n",
    "print (trainData.isnull()*1).sum()"
   ]
  },
  {
   "cell_type": "code",
   "execution_count": 7,
   "metadata": {
    "collapsed": false
   },
   "outputs": [
    {
     "data": {
      "text/plain": [
       "ID          int64\n",
       "target      int64\n",
       "v1        float64\n",
       "v2        float64\n",
       "v3         object\n",
       "v4        float64\n",
       "v5        float64\n",
       "v6        float64\n",
       "v7        float64\n",
       "v8        float64\n",
       "v9        float64\n",
       "v10       float64\n",
       "v11       float64\n",
       "v12       float64\n",
       "v13       float64\n",
       "v14       float64\n",
       "v15       float64\n",
       "v16       float64\n",
       "v17       float64\n",
       "v18       float64\n",
       "v19       float64\n",
       "v20       float64\n",
       "v21       float64\n",
       "v22        object\n",
       "v23       float64\n",
       "v24        object\n",
       "v25       float64\n",
       "v26       float64\n",
       "v27       float64\n",
       "v28       float64\n",
       "           ...   \n",
       "v102      float64\n",
       "v103      float64\n",
       "v104      float64\n",
       "v105      float64\n",
       "v106      float64\n",
       "v107       object\n",
       "v108      float64\n",
       "v109      float64\n",
       "v110       object\n",
       "v111      float64\n",
       "v112       object\n",
       "v113       object\n",
       "v114      float64\n",
       "v115      float64\n",
       "v116      float64\n",
       "v117      float64\n",
       "v118      float64\n",
       "v119      float64\n",
       "v120      float64\n",
       "v121      float64\n",
       "v122      float64\n",
       "v123      float64\n",
       "v124      float64\n",
       "v125       object\n",
       "v126      float64\n",
       "v127      float64\n",
       "v128      float64\n",
       "v129        int64\n",
       "v130      float64\n",
       "v131      float64\n",
       "dtype: object"
      ]
     },
     "execution_count": 7,
     "metadata": {},
     "output_type": "execute_result"
    }
   ],
   "source": [
    "# What types of data are we working with (ie. Numerical - integers and/or floats, Categorical - strings and/or objects)\n",
    "trainData.dtypes"
   ]
  },
  {
   "cell_type": "markdown",
   "metadata": {},
   "source": [
    "We see that there are almost three times as many \"1\" values as there are \"0\" values, expecting to having a 76% chance of getting a \"1\"."
   ]
  },
  {
   "cell_type": "code",
   "execution_count": 8,
   "metadata": {
    "collapsed": false
   },
   "outputs": [
    {
     "name": "stdout",
     "output_type": "stream",
     "text": [
      "Target Mean: 0.76, Target std: 0.43 \n",
      "\n"
     ]
    },
    {
     "data": {
      "text/plain": [
       "<matplotlib.text.Text at 0x10a401750>"
      ]
     },
     "execution_count": 8,
     "metadata": {},
     "output_type": "execute_result"
    },
    {
     "data": {
      "image/png": "[encoded data removed]",
      "text/plain": [
       "<matplotlib.figure.Figure at 0x1097519d0>"
      ]
     },
     "metadata": {},
     "output_type": "display_data"
    }
   ],
   "source": [
    "print \"Target Mean: %.2f, Target std: %.2f \\n\" % (trainData.target.mean(), trainData.target.std())\n",
    "\n",
    "plt.hist(trainData.target, label = 'x', alpha = .5)\n",
    "plt.title(\"Distribution of Target Values\")\n",
    "plt.xlabel(\"Value\")\n",
    "plt.ylabel(\"Frequency\")"
   ]
  },
  {
   "cell_type": "markdown",
   "metadata": {},
   "source": [
    "## Data Manipulation "
   ]
  },
  {
   "cell_type": "markdown",
   "metadata": {},
   "source": [
    "Combine all of the train and test data so that we can uniformly apply data manipulation techniques to everything.\n",
    "In order to clean up the data, an assumption was made that columns with a large number of null values probably won't contribute much information to model training. The column-drop threshold was set at >11,000 (~10%) null values of training data. \n",
    "For the columns that have categorical data, use **LabelEncoder** function from **SKLearn** to enumerate each unique category (our combined data allows us to maintain the same encoding scheme for both train/test sets).\n",
    "For the values that are still null, apply a generic numerical value (\"-1\") to fill in the blanks.\n",
    "Finally, we split the cleaned data back into their original train and test groups, making sure that we didn't lose any rows."
   ]
  },
  {
   "cell_type": "code",
   "execution_count": 9,
   "metadata": {
    "collapsed": false
   },
   "outputs": [
    {
     "name": "stdout",
     "output_type": "stream",
     "text": [
      "Train shape: (114321, 133), Test shape (114393, 132), Combined shape (228714, 133)\n"
     ]
    }
   ],
   "source": [
    "#Combine train and test data\n",
    "\n",
    "combinedData = pd.concat([trainData, testData], axis = 0,ignore_index = True)\n",
    "print \"Train shape: %r, Test shape %r, Combined shape %r\" % (trainData.shape, testData.shape, combinedData.shape)"
   ]
  },
  {
   "cell_type": "code",
   "execution_count": 10,
   "metadata": {
    "collapsed": false
   },
   "outputs": [
    {
     "name": "stdout",
     "output_type": "stream",
     "text": [
      "['ID', 'target', 'v3', 'v10', 'v12', 'v14', 'v21', 'v22', 'v24', 'v31', 'v34', 'v38', 'v40', 'v47', 'v50', 'v52', 'v56', 'v62', 'v66', 'v71', 'v72', 'v74', 'v75', 'v79', 'v91', 'v107', 'v110', 'v112', 'v114', 'v125', 'v129']\n"
     ]
    }
   ],
   "source": [
    "# Drop unwanted columns that have >11000 null training values\n",
    "\n",
    "usableColumns = [column for column in trainData.columns if (trainData[column].isnull()).sum() <11000]\n",
    "print usableColumns\n",
    "cleanCombinedData = combinedData[usableColumns]"
   ]
  },
  {
   "cell_type": "code",
   "execution_count": 11,
   "metadata": {
    "collapsed": false
   },
   "outputs": [
    {
     "name": "stderr",
     "output_type": "stream",
     "text": [
      "/Users/ankitpatel/anaconda/lib/python2.7/site-packages/pandas/core/generic.py:2862: SettingWithCopyWarning: \n",
      "A value is trying to be set on a copy of a slice from a DataFrame\n",
      "\n",
      "See the caveats in the documentation: http://pandas.pydata.org/pandas-docs/stable/indexing.html#indexing-view-versus-copy\n",
      "  self._update_inplace(new_data)\n",
      "/Users/ankitpatel/anaconda/lib/python2.7/site-packages/ipykernel/__main__.py:11: SettingWithCopyWarning: \n",
      "A value is trying to be set on a copy of a slice from a DataFrame.\n",
      "Try using .loc[row_indexer,col_indexer] = value instead\n",
      "\n",
      "See the caveats in the documentation: http://pandas.pydata.org/pandas-docs/stable/indexing.html#indexing-view-versus-copy\n"
     ]
    },
    {
     "name": "stdout",
     "output_type": "stream",
     "text": [
      "column: v3, before: object After int64\n",
      "column: v22, before: object After int64\n",
      "column: v24, before: object After int64\n",
      "column: v31, before: object After int64\n",
      "column: v47, before: object After int64\n",
      "column: v52, before: object After int64\n",
      "column: v56, before: object After int64\n",
      "column: v66, before: object After int64\n",
      "column: v71, before: object After int64\n",
      "column: v74, before: object After int64\n",
      "column: v75, before: object After int64\n",
      "column: v79, before: object After int64\n",
      "column: v91, before: object After int64\n",
      "column: v107, before: object After int64\n",
      "column: v110, before: object After int64\n",
      "column: v112, before: object After int64\n",
      "column: v125, before: object After int64\n"
     ]
    }
   ],
   "source": [
    "# Encode all of the categorical values into numerical values\n",
    "\n",
    "for column in cleanCombinedData.columns:\n",
    "    if (cleanCombinedData[column].dtype != 'int64') and (cleanCombinedData[column].dtype != 'float64'):\n",
    "        print \"column: %s, before: %s\" % (column, cleanCombinedData[column].dtype),\n",
    " \n",
    "        #assume empty spaces in this column mean same thing and dummy-fill them before encoding\n",
    "        cleanCombinedData[column].fillna('empty', inplace = True) \n",
    "        \n",
    "        encoder = LabelEncoder()\n",
    "        cleanCombinedData[column] = encoder.fit_transform(cleanCombinedData[column])\n",
    "        print \"After %s\" % cleanCombinedData[column].dtype #this helps us keep track of the data type before and after\n"
   ]
  },
  {
   "cell_type": "code",
   "execution_count": 12,
   "metadata": {
    "collapsed": false
   },
   "outputs": [
    {
     "name": "stderr",
     "output_type": "stream",
     "text": [
      "/Users/ankitpatel/anaconda/lib/python2.7/site-packages/pandas/core/frame.py:2705: SettingWithCopyWarning: \n",
      "A value is trying to be set on a copy of a slice from a DataFrame\n",
      "\n",
      "See the caveats in the documentation: http://pandas.pydata.org/pandas-docs/stable/indexing.html#indexing-view-versus-copy\n",
      "  **kwargs)\n"
     ]
    }
   ],
   "source": [
    "# for the remaining na/NaN values, fill them with -1\n",
    "cleanCombinedData.fillna(-1, inplace = True)"
   ]
  },
  {
   "cell_type": "code",
   "execution_count": 13,
   "metadata": {
    "collapsed": false
   },
   "outputs": [
    {
     "name": "stdout",
     "output_type": "stream",
     "text": [
      "Orig Train: (114321, 133), New Train: (114321, 31). Orig Test: (114393, 132), New Test: (114393, 31)\n"
     ]
    }
   ],
   "source": [
    "# split the combined data back out again into the original Train and Test splits\n",
    "cleanTrainData = cleanCombinedData[:trainData.shape[0]]\n",
    "cleanTestData = cleanCombinedData[trainData.shape[0]:]\n",
    "\n",
    "#check to make sure we didn't lose any rows of Data, and see how many columns we dropped\n",
    "print \"Orig Train: %r, New Train: %r. Orig Test: %r, New Test: %r\" % (trainData.shape, cleanTrainData.shape,\n",
    "                                                                     testData.shape, cleanTestData.shape)"
   ]
  },
  {
   "cell_type": "markdown",
   "metadata": {},
   "source": [
    "## Modeling the data"
   ]
  },
  {
   "cell_type": "markdown",
   "metadata": {},
   "source": [
    "Since this problem is a Binary classification, one of the first models to come to mind is the commonly used Logistic Regression. <br>\n",
    "**Logistic regression** - relatively simple and allows us to obey the contraint of having outcomes 0/1, it also has low variance and so is less prone to over-fitting. \n",
    "\n",
    "We also consider: <br>\n",
    "**Decision Trees** - A Decision tree can be scaled up to be very complex, and can be applied to situations where there's not just one underlying decision boundary, but many. Given our data set of many features, this seems like something that can be useful to us. However, Decision Trees can be notoriously over-fit to the train data, rendering them ineffective for generalization. \n",
    "\n",
    "**Random Forest Classifier** - Allows us to utilize the multiple boundary decision-making process of a DT but reduce variance. Variance reduction is done through using many DTs (Ensemble method), each tree using a random subset of training points with replacement (Bagging method), and each tree uses randomly selected features upon which to base our decision boundaries on. \n",
    "\n",
    "**Extremely Randomized Trees (Extra Trees)** - Same as a Random Forest classifier, except that for each feature used in  the decision boundaries, the split value is randomly chosen from that feature's empirical range.\n",
    "\n",
    "**Gradient Boosting**. - Going one step further, Gradient boosting combines a series of weak learners (for example, the various tree based learners described above), and with each iterative step adds another learner to correct the errors generated from the prior learners. \n",
    "\n",
    "While most of the models we'll implement are part of the SKLearn package, we will also use the **XGBoost** package. XGBoost (Extreme Gradient Boosting) is an optimized, efficient and very accurate implementation of the Gradient Boosting model that has gained notoriety as being a model of choice in many winning Kaggle competitions. \n",
    "\n",
    "Our objective was to minimize the **logarithmic loss function**:\n",
    "$$ log loss = -\\frac{1}{N}\\sum_{i=1}^N {(y_i\\log(p_i) + (1 - y_i)\\log(1 - p_i))} $$\n",
    "where N is the number of observations, \\\\(log\\\\) is the natural logarithm, $y_i$ is the binary target, and $p_i$ is the predicted probability that $y_i$ equals 1\n"
   ]
  },
  {
   "cell_type": "markdown",
   "metadata": {},
   "source": [
    "Let's start by trying out a few of the models we're considering and see how they fair, using default parameter settings. <br>\n",
    "We can see that Random Forest was the poorest performing model, while XGBoost was the best performing one. "
   ]
  },
  {
   "cell_type": "code",
   "execution_count": 14,
   "metadata": {
    "collapsed": false
   },
   "outputs": [
    {
     "name": "stdout",
     "output_type": "stream",
     "text": [
      "model LogisticRegression(C=1.0, class_weight=None, dual=False, fit_intercept=True,\n",
      "          intercept_scaling=1, max_iter=100, multi_class='ovr', n_jobs=1,\n",
      "          penalty='l2', random_state=None, solver='liblinear', tol=0.0001,\n",
      "          verbose=0, warm_start=False):, score: 0.49544555530872658\n",
      "model XGBClassifier(base_score=0.5, colsample_bylevel=1, colsample_bytree=1,\n",
      "       gamma=0, learning_rate=0.1, max_delta_step=0, max_depth=3,\n",
      "       min_child_weight=1, missing=None, n_estimators=100, nthread=-1,\n",
      "       objective='binary:logistic', reg_alpha=0, reg_lambda=1,\n",
      "       scale_pos_weight=1, seed=0, silent=True, subsample=1):, score: 0.4743854565921059\n",
      "model RandomForestClassifier(bootstrap=True, class_weight=None, criterion='gini',\n",
      "            max_depth=None, max_features='auto', max_leaf_nodes=None,\n",
      "            min_samples_leaf=1, min_samples_split=2,\n",
      "            min_weight_fraction_leaf=0.0, n_estimators=10, n_jobs=1,\n",
      "            oob_score=False, random_state=None, verbose=0,\n",
      "            warm_start=False):, score: 1.002004225668689\n"
     ]
    }
   ],
   "source": [
    "Log = LogisticRegression()\n",
    "XGB = XGBClassifier() \n",
    "RFC = RandomForestClassifier()\n",
    "\n",
    "models = [Log, XGB, RFC]\n",
    "\n",
    "xData = cleanTrainData.drop(['ID', \"target\"], axis = 1).values\n",
    "yData = cleanTrainData['target'].values\n",
    "for model in models:\n",
    "    print \"model %s:, score: %r\" %(model, cv_score(model,xData, yData ))"
   ]
  },
  {
   "cell_type": "markdown",
   "metadata": {},
   "source": [
    "Let's stay with the XGBoost model for the moment. We will use the GridSearch function from SKLearn to test a number of different parameter values to find the best combination that optimizes our scoring function. \n"
   ]
  },
  {
   "cell_type": "code",
   "execution_count": 15,
   "metadata": {
    "collapsed": false
   },
   "outputs": [
    {
     "name": "stdout",
     "output_type": "stream",
     "text": [
      "Training Accuracy: -0.43\n",
      "[mean: -0.46871, std: 0.00112, params: {'max_depth': 4}, mean: -0.46818, std: 0.00126, params: {'max_depth': 5}, mean: -0.46914, std: 0.00110, params: {'max_depth': 6}] {'max_depth': 5} -0.468184649306\n",
      "\n",
      "Time GridSearchCV took to run: 18.9333456158638 minutes\n"
     ]
    },
    {
     "name": "stderr",
     "output_type": "stream",
     "text": [
      "/Users/ankitpatel/anaconda/lib/python2.7/site-packages/sklearn/grid_search.py:418: ChangedBehaviorWarning: The long-standing behavior to use the estimator's score function in GridSearchCV.score has changed. The scoring parameter is now used.\n",
      "  ChangedBehaviorWarning)\n"
     ]
    }
   ],
   "source": [
    "# params to be fine tuned on XGB, max_depth, n_estimators, reg_alpha, reg_lambda\n",
    "#XGB = XGBClassifier(max_depth = 5, n_estimators = 450, reg_alpha = 0.1, reg_lambda = 5, learning_rate = .1, \n",
    "#                    subsample = 1) \n",
    "\n",
    "# set up a basic XGB model, with some params that i've already tested before\n",
    "XGB = XGBClassifier(n_estimators = 450, learning_rate = .1, subsample = 1, reg_alpha = 0.1, reg_lambda = 5 ) \n",
    "\n",
    "params = {'max_depth': [4,5,6]}\n",
    "\n",
    "xData = cleanTrainData.drop(['ID', 'target'], axis = 1).values\n",
    "yData = cleanTrainData['target'].values\n",
    "XGBgridSearch, gridScores, bestParams, bestScore = do_GridsearchCV(XGB, params, \"log_loss\", xData, yData)"
   ]
  },
  {
   "cell_type": "code",
   "execution_count": 16,
   "metadata": {
    "collapsed": false
   },
   "outputs": [
    {
     "name": "stdout",
     "output_type": "stream",
     "text": [
      "{'max_depth': 5}\n",
      "-0.468184649306\n"
     ]
    }
   ],
   "source": [
    "# print out what my best parameter value combination is as well as the resulting score\n",
    "print bestParams\n",
    "print bestScore"
   ]
  },
  {
   "cell_type": "code",
   "execution_count": 17,
   "metadata": {
    "collapsed": false
   },
   "outputs": [
    {
     "data": {
      "text/html": [
       "<div>\n",
       "<table border=\"1\" class=\"dataframe\">\n",
       "  <thead>\n",
       "    <tr style=\"text-align: right;\">\n",
       "      <th></th>\n",
       "      <th>ID</th>\n",
       "      <th>PredictedProb</th>\n",
       "    </tr>\n",
       "  </thead>\n",
       "  <tbody>\n",
       "    <tr>\n",
       "      <th>0</th>\n",
       "      <td>0</td>\n",
       "      <td>0.307977</td>\n",
       "    </tr>\n",
       "    <tr>\n",
       "      <th>1</th>\n",
       "      <td>1</td>\n",
       "      <td>0.957670</td>\n",
       "    </tr>\n",
       "    <tr>\n",
       "      <th>2</th>\n",
       "      <td>2</td>\n",
       "      <td>0.884944</td>\n",
       "    </tr>\n",
       "    <tr>\n",
       "      <th>3</th>\n",
       "      <td>7</td>\n",
       "      <td>0.670062</td>\n",
       "    </tr>\n",
       "    <tr>\n",
       "      <th>4</th>\n",
       "      <td>10</td>\n",
       "      <td>0.766797</td>\n",
       "    </tr>\n",
       "  </tbody>\n",
       "</table>\n",
       "</div>"
      ],
      "text/plain": [
       "   ID  PredictedProb\n",
       "0   0       0.307977\n",
       "1   1       0.957670\n",
       "2   2       0.884944\n",
       "3   7       0.670062\n",
       "4  10       0.766797"
      ]
     },
     "execution_count": 17,
     "metadata": {},
     "output_type": "execute_result"
    }
   ],
   "source": [
    "# using the best parameters found, re-train the XGB model and predict outcomes on test set\n",
    "XGB = XGBClassifier(max_depth = 5, n_estimators = 450, reg_alpha = 0.1, reg_lambda = 5, learning_rate = .1, \n",
    "                    subsample = 1)\n",
    "\n",
    "xData = cleanTrainData.drop(['ID', 'target'], axis = 1)\n",
    "yData = cleanTrainData['target']\n",
    "xTest = cleanTestData.drop(['ID', 'target'], axis = 1)\n",
    "XGB.fit(xData, yData)\n",
    "\n",
    "yPred = XGB.predict_proba(xTest)\n",
    "\n",
    "# take the data from the second column, which is the predicted probability of a \"1\"\n",
    "sampleSubmission.PredictedProb = yPred[:,1]\n",
    "# make sure nothing looks weird\n",
    "sampleSubmission.head()"
   ]
  },
  {
   "cell_type": "code",
   "execution_count": 18,
   "metadata": {
    "collapsed": false
   },
   "outputs": [],
   "source": [
    "# write the predictions to a csv file that can be uploaded to Kaggle\n",
    "# file name has current data and time appended to it, so different predictions can be distinguished \n",
    "\n",
    "writePath = 'data/XGB_prob_submission_%s.csv' % (datetime.datetime.now())\n",
    "#sampleSubmission.to_csv(writePath, index = False)"
   ]
  },
  {
   "cell_type": "markdown",
   "metadata": {},
   "source": [
    "## Blending Models"
   ]
  },
  {
   "cell_type": "markdown",
   "metadata": {},
   "source": [
    "One of the methods commonly seen in Kaggle competitions is the use of Ensembling and/or Stacking. <br>\n",
    "Ensembling tends to describe the process of training multiple models, who's individual predictions are weighted in some fashion, subsequently producing one collective prediction. <br>\n",
    "Stacking, on the other hand, trains multiple models, makes predictions using those models, and then trains *another* model on those predictions, ultimately using this combiner model to make a final set of predictions. <br>\n",
    "The intuition behind using these approaches is that we can 'learn' from the different 'opinions' provided by a group of models, which may not be very strong individually, but collectively can be more effective in choosing an accurate prediction (kind of a \"people's choice\", without significant group think)."
   ]
  },
  {
   "cell_type": "code",
   "execution_count": 19,
   "metadata": {
    "collapsed": false
   },
   "outputs": [
    {
     "name": "stdout",
     "output_type": "stream",
     "text": [
      "Creating train and test sets for blending.\n",
      "0 LogisticRegression(C=1.0, class_weight=None, dual=False, fit_intercept=True,\n",
      "          intercept_scaling=1, max_iter=100, multi_class='ovr', n_jobs=1,\n",
      "          penalty='l2', random_state=None, solver='liblinear', tol=0.0001,\n",
      "          verbose=0, warm_start=False)\n",
      "Fold 0\n",
      "Fold 1\n",
      "Fold 2\n",
      "Fold 3\n",
      "Fold 4\n",
      "Fold 5\n",
      "Fold 6\n",
      "Fold 7\n",
      "Fold 8\n",
      "Fold 9\n",
      "1 RandomForestClassifier(bootstrap=True, class_weight=None, criterion='gini',\n",
      "            max_depth=None, max_features='auto', max_leaf_nodes=None,\n",
      "            min_samples_leaf=1, min_samples_split=2,\n",
      "            min_weight_fraction_leaf=0.0, n_estimators=100, n_jobs=-1,\n",
      "            oob_score=False, random_state=None, verbose=0,\n",
      "            warm_start=False)\n",
      "Fold 0\n",
      "Fold 1\n",
      "Fold 2\n",
      "Fold 3\n",
      "Fold 4\n",
      "Fold 5\n",
      "Fold 6\n",
      "Fold 7\n",
      "Fold 8\n",
      "Fold 9\n",
      "2 RandomForestClassifier(bootstrap=True, class_weight=None, criterion='entropy',\n",
      "            max_depth=None, max_features='auto', max_leaf_nodes=None,\n",
      "            min_samples_leaf=1, min_samples_split=2,\n",
      "            min_weight_fraction_leaf=0.0, n_estimators=100, n_jobs=-1,\n",
      "            oob_score=False, random_state=None, verbose=0,\n",
      "            warm_start=False)\n",
      "Fold 0\n",
      "Fold 1\n",
      "Fold 2\n",
      "Fold 3\n",
      "Fold 4\n",
      "Fold 5\n",
      "Fold 6\n",
      "Fold 7\n",
      "Fold 8\n",
      "Fold 9\n",
      "3 ExtraTreesClassifier(bootstrap=False, class_weight=None, criterion='gini',\n",
      "           max_depth=None, max_features='auto', max_leaf_nodes=None,\n",
      "           min_samples_leaf=1, min_samples_split=2,\n",
      "           min_weight_fraction_leaf=0.0, n_estimators=100, n_jobs=-1,\n",
      "           oob_score=False, random_state=None, verbose=0, warm_start=False)\n",
      "Fold 0\n",
      "Fold 1\n",
      "Fold 2\n",
      "Fold 3\n",
      "Fold 4\n",
      "Fold 5\n",
      "Fold 6\n",
      "Fold 7\n",
      "Fold 8\n",
      "Fold 9\n",
      "4 ExtraTreesClassifier(bootstrap=False, class_weight=None, criterion='entropy',\n",
      "           max_depth=None, max_features='auto', max_leaf_nodes=None,\n",
      "           min_samples_leaf=1, min_samples_split=2,\n",
      "           min_weight_fraction_leaf=0.0, n_estimators=100, n_jobs=-1,\n",
      "           oob_score=False, random_state=None, verbose=0, warm_start=False)\n",
      "Fold 0\n",
      "Fold 1\n",
      "Fold 2\n",
      "Fold 3\n",
      "Fold 4\n",
      "Fold 5\n",
      "Fold 6\n",
      "Fold 7\n",
      "Fold 8\n",
      "Fold 9\n",
      "5 GradientBoostingClassifier(init=None, learning_rate=0.1, loss='deviance',\n",
      "              max_depth=3, max_features=None, max_leaf_nodes=None,\n",
      "              min_samples_leaf=1, min_samples_split=2,\n",
      "              min_weight_fraction_leaf=0.0, n_estimators=200,\n",
      "              presort='auto', random_state=None, subsample=1.0, verbose=0,\n",
      "              warm_start=False)\n",
      "Fold 0\n",
      "Fold 1\n",
      "Fold 2\n",
      "Fold 3\n",
      "Fold 4\n",
      "Fold 5\n",
      "Fold 6\n",
      "Fold 7\n",
      "Fold 8\n",
      "Fold 9\n",
      "6 XGBClassifier(base_score=0.5, colsample_bylevel=1, colsample_bytree=1,\n",
      "       gamma=0, learning_rate=0.1, max_delta_step=0, max_depth=3,\n",
      "       min_child_weight=1, missing=None, n_estimators=200, nthread=-1,\n",
      "       objective='binary:logistic', reg_alpha=0.1, reg_lambda=5,\n",
      "       scale_pos_weight=1, seed=0, silent=True, subsample=1)\n",
      "Fold 0\n",
      "Fold 1\n",
      "Fold 2\n",
      "Fold 3\n",
      "Fold 4\n",
      "Fold 5\n",
      "Fold 6\n",
      "Fold 7\n",
      "Fold 8\n",
      "Fold 9\n",
      "\n",
      "Blending.\n",
      "***Score***  0.459985847321\n",
      "Saving to file.\n",
      "Total time taken: 30.82372789780299 minutes\n"
     ]
    }
   ],
   "source": [
    "#Try a model blending approach\n",
    "#Much of this code sourced from: https://github.com/emanuele/kaggle_pbr/blob/master/blend.py\n",
    "\n",
    "X = cleanTrainData.drop(['ID', 'target'], axis = 1).values\n",
    "y = cleanTrainData['target'].values\n",
    "X_submission = cleanTestData.drop(['ID', 'target'], axis = 1)\n",
    "\n",
    "n_folds = 10  #use 10 folds in our cross-validation model building below\n",
    "\n",
    "skf = list(StratifiedKFold(y, n_folds)) # stratifiedKFold provides train/test sets for n_fold iterations, \n",
    "                                        # while maintaining the class proportions of the original target set\n",
    "\n",
    "# our set of base learners (models)\n",
    "clfs = [LogisticRegression(),\n",
    "            RandomForestClassifier(n_estimators=100, n_jobs=-1, criterion='gini'),\n",
    "            RandomForestClassifier(n_estimators=100, n_jobs=-1, criterion='entropy'),\n",
    "            ExtraTreesClassifier(n_estimators=100, n_jobs=-1, criterion='gini'),\n",
    "            ExtraTreesClassifier(n_estimators=100, n_jobs=-1, criterion='entropy'),\n",
    "            GradientBoostingClassifier(learning_rate=0.1, n_estimators=200),\n",
    "            XGBClassifier(n_estimators = 200, reg_alpha = 0.1, reg_lambda = 5, learning_rate = .1)]\n",
    "\n",
    "\n",
    "print \"Creating train and test sets for blending.\"\n",
    "start_time = time.time()\n",
    "#######################################\n",
    "# dataset_blend_train - matrix of (# training samples, # of clfs). It collects all of the predictions made on  \n",
    "#                       'held out' chunks of test sets during the CV process, for each model in our list\n",
    "# dataset_blend_test - matrix of (# of test samples, # of clfs). Collects the average of 10 folds of predictions\n",
    "#                      made on the actual test data; for each model in our list.\n",
    "#######################################\n",
    "dataset_blend_train = np.zeros((X.shape[0], len(clfs)))\n",
    "dataset_blend_test = np.zeros((X_submission.shape[0], len(clfs)))\n",
    "    \n",
    "for j, clf in enumerate(clfs):\n",
    "    print j, clf  #print classifier number and model info\n",
    "    dataset_blend_test_j = np.zeros((X_submission.shape[0], len(skf)))  #matrix to hold our predictions on the actual\n",
    "                                                                        #final test set for each fold 'i'\n",
    "    #for each fold 'i', do work with the train/test set created\n",
    "    for i, (train, test) in enumerate(skf):\n",
    "        print \"Fold\", i\n",
    "        X_train = X[train]\n",
    "        y_train = y[train]\n",
    "        X_test = X[test]\n",
    "        y_test = y[test]\n",
    "        clf.fit(X_train, y_train)\n",
    "        y_submission = clf.predict_proba(X_test)[:,1]\n",
    "        dataset_blend_train[test, j] = y_submission  #predictions made on our skf test set are added to the train matrix\n",
    "                                                     #in their respective test rows assigned by skf\n",
    "        dataset_blend_test_j[:, i] = clf.predict_proba(X_submission)[:,1] #predictions made on our actual test data\n",
    "                                                                          #assigned to matrix for each fold  \n",
    "    dataset_blend_test[:,j] = dataset_blend_test_j.mean(1)  #in the overall test matrix, assign the average\n",
    "                                                            #prediction of all i folds on the actual test data\n",
    "                                                            #for each classifier 'j' in our list\n",
    "\n",
    "print\n",
    "print \"Blending.\"\n",
    "\n",
    "# our final \"combiner\" model will be XGB Classifier\n",
    "clf = XGBClassifier(max_depth = 5, n_estimators = 50, reg_alpha = 0.1, reg_lambda = 5, learning_rate = .1, \n",
    "                    subsample = 1)\n",
    "\n",
    "# \"train on predictions, and make predictions on predictions\"\n",
    "clf.fit(dataset_blend_train, y)  #train combiner model on the predictions made on the training data by each base model\n",
    "y_submission = clf.predict_proba(dataset_blend_test)[:,1] #predict outcome given the averaged test predictions of each\n",
    "                                                          #base model\n",
    "\n",
    "#do an independent, local cross-validation to see what the final results might score \n",
    "score = cv_score(clf,dataset_blend_train, y )\n",
    "print \"***Score*** \", score\n",
    "\n",
    "# if i've beaten my benchmark score, then I'm going to save my current results down to csv for Kaggle submission\n",
    "benchmark_score = 0.46\n",
    "if score < benchmark_score:\n",
    "    sampleSubmission.PredictedProb = y_submission\n",
    "    print \"Saving to file.\"\n",
    "    writePath = 'data/Blended_prob1_submission_%s.csv' % (datetime.datetime.now())\n",
    "    sampleSubmission.to_csv(writePath, index = False)\n",
    "\n",
    "    \n",
    "print \"Total time taken: %r minutes\" % ((time.time()-start_time)/60) "
   ]
  },
  {
   "cell_type": "markdown",
   "metadata": {},
   "source": [
    "Taking a quick look at the distribution of the final set of predictions:"
   ]
  },
  {
   "cell_type": "code",
   "execution_count": 21,
   "metadata": {
    "collapsed": false
   },
   "outputs": [
    {
     "data": {
      "text/plain": [
       "<matplotlib.text.Text at 0x109897e90>"
      ]
     },
     "execution_count": 21,
     "metadata": {},
     "output_type": "execute_result"
    },
    {
     "data": {
      "image/png": "[encoded data removed]",
      "text/plain": [
       "<matplotlib.figure.Figure at 0x10987c850>"
      ]
     },
     "metadata": {},
     "output_type": "display_data"
    }
   ],
   "source": [
    "plt.hist(y_submission, label = 'x', alpha = .5)\n",
    "plt.title(\"Distribution of Final Predictions\")\n",
    "plt.xlabel(\"Probability of 1\")\n",
    "plt.ylabel(\"Frequency\")"
   ]
  },
  {
   "cell_type": "markdown",
   "metadata": {},
   "source": [
    "### Some final fine tuning"
   ]
  },
  {
   "cell_type": "markdown",
   "metadata": {},
   "source": [
    "To check to see if the XGB Classifier used above is the best combiner model, we test a few other classification models using local cross-validation to see how they would compare. <br>\n",
    "While Logistic Regression came close, XGB Classifier was still quite a bit better."
   ]
  },
  {
   "cell_type": "code",
   "execution_count": 23,
   "metadata": {
    "collapsed": false
   },
   "outputs": [
    {
     "name": "stdout",
     "output_type": "stream",
     "text": [
      "model XGBClassifier(base_score=0.5, colsample_bylevel=1, colsample_bytree=1,\n",
      "       gamma=0, learning_rate=0.1, max_delta_step=0, max_depth=5,\n",
      "       min_child_weight=1, missing=None, n_estimators=50, nthread=-1,\n",
      "       objective='binary:logistic', reg_alpha=0.1, reg_lambda=5,\n",
      "       scale_pos_weight=1, seed=0, silent=True, subsample=1):, score: 0.45998584732110548\n",
      "model LogisticRegression(C=1.0, class_weight=None, dual=False, fit_intercept=True,\n",
      "          intercept_scaling=1, max_iter=100, multi_class='ovr', n_jobs=1,\n",
      "          penalty='l2', random_state=None, solver='liblinear', tol=0.0001,\n",
      "          verbose=0, warm_start=False):, score: 0.46537326486119418\n",
      "model RandomForestClassifier(bootstrap=True, class_weight=None, criterion='gini',\n",
      "            max_depth=None, max_features='auto', max_leaf_nodes=None,\n",
      "            min_samples_leaf=1, min_samples_split=2,\n",
      "            min_weight_fraction_leaf=0.0, n_estimators=10, n_jobs=1,\n",
      "            oob_score=False, random_state=None, verbose=0,\n",
      "            warm_start=False):, score: 1.1168342203071835\n",
      "model ExtraTreesClassifier(bootstrap=False, class_weight=None, criterion='gini',\n",
      "           max_depth=None, max_features='auto', max_leaf_nodes=None,\n",
      "           min_samples_leaf=1, min_samples_split=2,\n",
      "           min_weight_fraction_leaf=0.0, n_estimators=10, n_jobs=1,\n",
      "           oob_score=False, random_state=None, verbose=0, warm_start=False):, score: 1.1191647376733578\n"
     ]
    }
   ],
   "source": [
    "XGB = XGBClassifier(max_depth = 5, n_estimators = 50, reg_alpha = 0.1, reg_lambda = 5, learning_rate = .1, \n",
    "                    subsample = 1)\n",
    "LOG = LogisticRegression()\n",
    "RFC = RandomForestClassifier()\n",
    "ETC = ExtraTreesClassifier()\n",
    "\n",
    "models = [XGB, LOG, RFC, ETC]\n",
    "\n",
    "xData = dataset_blend_train\n",
    "yData = y\n",
    "for model in models:\n",
    "    print \"model %s:, score: %r\" %(model, cv_score(model,xData, yData ))"
   ]
  },
  {
   "cell_type": "markdown",
   "metadata": {},
   "source": [
    "In an effort to squeeze out every last bit of performance from our combiner model, let's do a GridSearchCV to find the best parameters to use when making our final predictions for submission."
   ]
  },
  {
   "cell_type": "code",
   "execution_count": 24,
   "metadata": {
    "collapsed": false
   },
   "outputs": [
    {
     "name": "stdout",
     "output_type": "stream",
     "text": [
      "Training Accuracy: -0.45\n",
      "[mean: -0.46403, std: 0.00135, params: {'learning_rate': 0.05}, mean: -0.45991, std: 0.00171, params: {'learning_rate': 0.1}, mean: -0.46015, std: 0.00178, params: {'learning_rate': 0.2}] {'learning_rate': 0.1} -0.459912645895\n",
      "\n",
      "Time GridSearchCV took to run: 0.7771179477373759 minutes\n"
     ]
    }
   ],
   "source": [
    "XGB = XGBClassifier(max_depth = 5, n_estimators = 50, reg_alpha = 0.1, reg_lambda = 5, learning_rate = .1, \n",
    "                    subsample = 1)\n",
    "params = {'learning_rate' :[.05, .1, .2] }\n",
    "\n",
    "xData = dataset_blend_train\n",
    "yData = y\n",
    "XGBgridSearch, gridScores, bestParams, bestScore = do_GridsearchCV(XGB, params, \"log_loss\", xData, yData)\n"
   ]
  },
  {
   "cell_type": "code",
   "execution_count": 25,
   "metadata": {
    "collapsed": false
   },
   "outputs": [
    {
     "name": "stdout",
     "output_type": "stream",
     "text": [
      "bestParams:  {'learning_rate': 0.1}\n",
      "bestScore: -0.459912645895\n"
     ]
    }
   ],
   "source": [
    "print \"bestParams: \", bestParams\n",
    "print \"bestScore:\", bestScore"
   ]
  },
  {
   "cell_type": "markdown",
   "metadata": {},
   "source": [
    "## Final thoughts"
   ]
  },
  {
   "cell_type": "markdown",
   "metadata": {},
   "source": [
    "From a very basic Logistic Regression model to the much more complex stacked model, a significant improvement in score was made. Where else could improvements have been made? <br>\n",
    "During the data cleaning/manipulation process, a lot of data was dropped due to a high number of null values. Perhaps those null values meant something? We could've kept them, while filling them with a some dummy value. We could've also created another column (feature engineering) that would indicate a 0/1 representation of whether or not data existed for that particular feature. <br>\n",
    "We could've also tried a different variation of model blending techniques, increased the amount of base learners that were blended, or even tweaking the base learners that went into the blend. <br>"
   ]
  }
 ],
 "metadata": {
  "kernelspec": {
   "display_name": "Python 2",
   "language": "python",
   "name": "python2"
  },
  "language_info": {
   "codemirror_mode": {
    "name": "ipython",
    "version": 2
   },
   "file_extension": ".py",
   "mimetype": "text/x-python",
   "name": "python",
   "nbconvert_exporter": "python",
   "pygments_lexer": "ipython2",
   "version": "2.7.11"
  }
 },
 "nbformat": 4,
 "nbformat_minor": 0
}
